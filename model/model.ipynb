{
 "cells": [
  {
   "cell_type": "code",
   "execution_count": 16,
   "metadata": {
    "id": "uq-8zraouugZ"
   },
   "outputs": [],
   "source": [
    "import numpy as np\n",
    "import pandas as pd"
   ]
  },
  {
   "cell_type": "code",
   "execution_count": 17,
   "metadata": {
    "id": "EEAuyxceyfBn"
   },
   "outputs": [],
   "source": [
    "import random\n",
    "random.seed(42)"
   ]
  },
  {
   "cell_type": "code",
   "execution_count": 18,
   "metadata": {
    "id": "kZcgQNyFyhZ7"
   },
   "outputs": [],
   "source": [
    "dataset = pd.read_csv(\"data.csv\")\n",
    "dataset = dataset.dropna()"
   ]
  },
  {
   "cell_type": "code",
   "execution_count": 19,
   "metadata": {
    "colab": {
     "base_uri": "https://localhost:8080/",
     "height": 402
    },
    "id": "IVwF8cyRymPp",
    "outputId": "4e3f725e-cf30-4dc6-a330-fea1485128af"
   },
   "outputs": [
    {
     "data": {
      "text/html": [
       "<div>\n",
       "<style scoped>\n",
       "    .dataframe tbody tr th:only-of-type {\n",
       "        vertical-align: middle;\n",
       "    }\n",
       "\n",
       "    .dataframe tbody tr th {\n",
       "        vertical-align: top;\n",
       "    }\n",
       "\n",
       "    .dataframe thead th {\n",
       "        text-align: right;\n",
       "    }\n",
       "</style>\n",
       "<table border=\"1\" class=\"dataframe\">\n",
       "  <thead>\n",
       "    <tr style=\"text-align: right;\">\n",
       "      <th></th>\n",
       "      <th>date</th>\n",
       "      <th>open</th>\n",
       "      <th>close</th>\n",
       "      <th>low</th>\n",
       "      <th>high</th>\n",
       "      <th>volume</th>\n",
       "    </tr>\n",
       "  </thead>\n",
       "  <tbody>\n",
       "    <tr>\n",
       "      <th>0</th>\n",
       "      <td>2016-01-05</td>\n",
       "      <td>123.430000</td>\n",
       "      <td>125.839996</td>\n",
       "      <td>122.309998</td>\n",
       "      <td>126.250000</td>\n",
       "      <td>2163600.0</td>\n",
       "    </tr>\n",
       "    <tr>\n",
       "      <th>1</th>\n",
       "      <td>2016-01-06</td>\n",
       "      <td>125.239998</td>\n",
       "      <td>119.980003</td>\n",
       "      <td>119.940002</td>\n",
       "      <td>125.540001</td>\n",
       "      <td>2386400.0</td>\n",
       "    </tr>\n",
       "    <tr>\n",
       "      <th>2</th>\n",
       "      <td>2016-01-07</td>\n",
       "      <td>116.379997</td>\n",
       "      <td>114.949997</td>\n",
       "      <td>114.930000</td>\n",
       "      <td>119.739998</td>\n",
       "      <td>2489500.0</td>\n",
       "    </tr>\n",
       "    <tr>\n",
       "      <th>3</th>\n",
       "      <td>2016-01-08</td>\n",
       "      <td>115.480003</td>\n",
       "      <td>116.620003</td>\n",
       "      <td>113.500000</td>\n",
       "      <td>117.440002</td>\n",
       "      <td>2006300.0</td>\n",
       "    </tr>\n",
       "    <tr>\n",
       "      <th>4</th>\n",
       "      <td>2016-01-11</td>\n",
       "      <td>117.010002</td>\n",
       "      <td>114.970001</td>\n",
       "      <td>114.089996</td>\n",
       "      <td>117.330002</td>\n",
       "      <td>1408600.0</td>\n",
       "    </tr>\n",
       "    <tr>\n",
       "      <th>...</th>\n",
       "      <td>...</td>\n",
       "      <td>...</td>\n",
       "      <td>...</td>\n",
       "      <td>...</td>\n",
       "      <td>...</td>\n",
       "      <td>...</td>\n",
       "    </tr>\n",
       "    <tr>\n",
       "      <th>851259</th>\n",
       "      <td>2016-12-30</td>\n",
       "      <td>103.309998</td>\n",
       "      <td>103.199997</td>\n",
       "      <td>102.849998</td>\n",
       "      <td>103.930000</td>\n",
       "      <td>973800.0</td>\n",
       "    </tr>\n",
       "    <tr>\n",
       "      <th>851260</th>\n",
       "      <td>2016-12-30</td>\n",
       "      <td>43.070000</td>\n",
       "      <td>43.040001</td>\n",
       "      <td>42.689999</td>\n",
       "      <td>43.310001</td>\n",
       "      <td>1938100.0</td>\n",
       "    </tr>\n",
       "    <tr>\n",
       "      <th>851261</th>\n",
       "      <td>2016-12-30</td>\n",
       "      <td>53.639999</td>\n",
       "      <td>53.529999</td>\n",
       "      <td>53.270000</td>\n",
       "      <td>53.740002</td>\n",
       "      <td>1701200.0</td>\n",
       "    </tr>\n",
       "    <tr>\n",
       "      <th>851262</th>\n",
       "      <td>2016-12-30</td>\n",
       "      <td>44.730000</td>\n",
       "      <td>45.450001</td>\n",
       "      <td>44.410000</td>\n",
       "      <td>45.590000</td>\n",
       "      <td>1380900.0</td>\n",
       "    </tr>\n",
       "    <tr>\n",
       "      <th>851263</th>\n",
       "      <td>2016-12-30</td>\n",
       "      <td>54.200001</td>\n",
       "      <td>53.630001</td>\n",
       "      <td>53.389999</td>\n",
       "      <td>54.480000</td>\n",
       "      <td>705100.0</td>\n",
       "    </tr>\n",
       "  </tbody>\n",
       "</table>\n",
       "<p>851264 rows × 6 columns</p>\n",
       "</div>"
      ],
      "text/plain": [
       "              date        open       close         low        high     volume\n",
       "0       2016-01-05  123.430000  125.839996  122.309998  126.250000  2163600.0\n",
       "1       2016-01-06  125.239998  119.980003  119.940002  125.540001  2386400.0\n",
       "2       2016-01-07  116.379997  114.949997  114.930000  119.739998  2489500.0\n",
       "3       2016-01-08  115.480003  116.620003  113.500000  117.440002  2006300.0\n",
       "4       2016-01-11  117.010002  114.970001  114.089996  117.330002  1408600.0\n",
       "...            ...         ...         ...         ...         ...        ...\n",
       "851259  2016-12-30  103.309998  103.199997  102.849998  103.930000   973800.0\n",
       "851260  2016-12-30   43.070000   43.040001   42.689999   43.310001  1938100.0\n",
       "851261  2016-12-30   53.639999   53.529999   53.270000   53.740002  1701200.0\n",
       "851262  2016-12-30   44.730000   45.450001   44.410000   45.590000  1380900.0\n",
       "851263  2016-12-30   54.200001   53.630001   53.389999   54.480000   705100.0\n",
       "\n",
       "[851264 rows x 6 columns]"
      ]
     },
     "execution_count": 19,
     "metadata": {},
     "output_type": "execute_result"
    }
   ],
   "source": [
    "dataset.drop(['symbol'], axis = 1) "
   ]
  },
  {
   "cell_type": "code",
   "execution_count": 20,
   "metadata": {
    "colab": {
     "base_uri": "https://localhost:8080/",
     "height": 265
    },
    "id": "9tPV2_duyq3u",
    "outputId": "c2d2c431-b63d-47bf-8fb0-58a67e89853a"
   },
   "outputs": [
    {
     "data": {
      "image/png": "[encoded data removed]",
      "text/plain": [
       "<Figure size 432x288 with 1 Axes>"
      ]
     },
     "metadata": {
      "needs_background": "light"
     },
     "output_type": "display_data"
    }
   ],
   "source": [
    "import matplotlib.pyplot as plt        \n",
    "y_label=np.array(dataset['close'])\n",
    "x_label=np.array(dataset['date'])\n",
    "plt.plot(x_label, color='r', label='Date')\n",
    "plt.plot(y_label, color='g', label='Closing Value')\n",
    "plt.legend()\n",
    "plt.show()"
   ]
  },
  {
   "cell_type": "code",
   "execution_count": 21,
   "metadata": {
    "id": "Z4lPsSd6ywSd"
   },
   "outputs": [],
   "source": [
    "dataset['H-L'] = dataset['high'] - dataset['low']\n",
    "dataset['O-C'] = dataset['close'] - dataset['open']\n",
    "dataset['3day MA'] = dataset['close'].shift(1).rolling(window = 3).mean()\n",
    "dataset['10day MA'] = dataset['close'].shift(1).rolling(window = 10).mean()\n",
    "dataset['30day MA'] = dataset['close'].shift(1).rolling(window = 30).mean()\n",
    "dataset['Std_dev']= dataset['close'].rolling(5).std()\n",
    "dataset['Price_Rise'] = np.where(dataset['close'].shift(-1) > dataset['close'], 1, 0)"
   ]
  },
  {
   "cell_type": "code",
   "execution_count": 22,
   "metadata": {
    "id": "UuD85vhTy2HJ"
   },
   "outputs": [],
   "source": [
    "dataset = dataset.dropna()"
   ]
  },
  {
   "cell_type": "code",
   "execution_count": 23,
   "metadata": {
    "colab": {
     "base_uri": "https://localhost:8080/",
     "height": 402
    },
    "id": "yVY-HFT-y5ir",
    "outputId": "6d475d4a-f447-4f42-be19-345558890166"
   },
   "outputs": [
    {
     "data": {
      "text/html": [
       "<div>\n",
       "<style scoped>\n",
       "    .dataframe tbody tr th:only-of-type {\n",
       "        vertical-align: middle;\n",
       "    }\n",
       "\n",
       "    .dataframe tbody tr th {\n",
       "        vertical-align: top;\n",
       "    }\n",
       "\n",
       "    .dataframe thead th {\n",
       "        text-align: right;\n",
       "    }\n",
       "</style>\n",
       "<table border=\"1\" class=\"dataframe\">\n",
       "  <thead>\n",
       "    <tr style=\"text-align: right;\">\n",
       "      <th></th>\n",
       "      <th>H-L</th>\n",
       "      <th>O-C</th>\n",
       "      <th>3day MA</th>\n",
       "      <th>10day MA</th>\n",
       "      <th>30day MA</th>\n",
       "      <th>Std_dev</th>\n",
       "    </tr>\n",
       "  </thead>\n",
       "  <tbody>\n",
       "    <tr>\n",
       "      <th>30</th>\n",
       "      <td>3.269997</td>\n",
       "      <td>0.479995</td>\n",
       "      <td>109.949997</td>\n",
       "      <td>111.008999</td>\n",
       "      <td>112.777666</td>\n",
       "      <td>2.073025</td>\n",
       "    </tr>\n",
       "    <tr>\n",
       "      <th>31</th>\n",
       "      <td>5.120003</td>\n",
       "      <td>-1.040001</td>\n",
       "      <td>111.203331</td>\n",
       "      <td>110.763999</td>\n",
       "      <td>112.303000</td>\n",
       "      <td>1.485878</td>\n",
       "    </tr>\n",
       "    <tr>\n",
       "      <th>32</th>\n",
       "      <td>2.220001</td>\n",
       "      <td>1.680000</td>\n",
       "      <td>111.056666</td>\n",
       "      <td>110.225999</td>\n",
       "      <td>111.981333</td>\n",
       "      <td>1.036451</td>\n",
       "    </tr>\n",
       "    <tr>\n",
       "      <th>33</th>\n",
       "      <td>1.450005</td>\n",
       "      <td>-0.480004</td>\n",
       "      <td>111.656667</td>\n",
       "      <td>110.127999</td>\n",
       "      <td>111.917666</td>\n",
       "      <td>0.987193</td>\n",
       "    </tr>\n",
       "    <tr>\n",
       "      <th>34</th>\n",
       "      <td>2.669998</td>\n",
       "      <td>0.790001</td>\n",
       "      <td>111.753334</td>\n",
       "      <td>110.200999</td>\n",
       "      <td>111.760000</td>\n",
       "      <td>0.966555</td>\n",
       "    </tr>\n",
       "    <tr>\n",
       "      <th>...</th>\n",
       "      <td>...</td>\n",
       "      <td>...</td>\n",
       "      <td>...</td>\n",
       "      <td>...</td>\n",
       "      <td>...</td>\n",
       "      <td>...</td>\n",
       "    </tr>\n",
       "    <tr>\n",
       "      <th>851259</th>\n",
       "      <td>1.080002</td>\n",
       "      <td>-0.110001</td>\n",
       "      <td>50.506667</td>\n",
       "      <td>58.246999</td>\n",
       "      <td>65.910000</td>\n",
       "      <td>34.653861</td>\n",
       "    </tr>\n",
       "    <tr>\n",
       "      <th>851260</th>\n",
       "      <td>0.620002</td>\n",
       "      <td>-0.029999</td>\n",
       "      <td>68.399999</td>\n",
       "      <td>54.977000</td>\n",
       "      <td>66.644334</td>\n",
       "      <td>26.118796</td>\n",
       "    </tr>\n",
       "    <tr>\n",
       "      <th>851261</th>\n",
       "      <td>0.470002</td>\n",
       "      <td>-0.110000</td>\n",
       "      <td>69.856667</td>\n",
       "      <td>55.211000</td>\n",
       "      <td>65.543334</td>\n",
       "      <td>25.793282</td>\n",
       "    </tr>\n",
       "    <tr>\n",
       "      <th>851262</th>\n",
       "      <td>1.180000</td>\n",
       "      <td>0.720001</td>\n",
       "      <td>66.589999</td>\n",
       "      <td>56.838000</td>\n",
       "      <td>64.872000</td>\n",
       "      <td>24.514858</td>\n",
       "    </tr>\n",
       "    <tr>\n",
       "      <th>851263</th>\n",
       "      <td>1.090001</td>\n",
       "      <td>-0.570000</td>\n",
       "      <td>47.340000</td>\n",
       "      <td>55.346000</td>\n",
       "      <td>64.303000</td>\n",
       "      <td>24.737406</td>\n",
       "    </tr>\n",
       "  </tbody>\n",
       "</table>\n",
       "<p>851234 rows × 6 columns</p>\n",
       "</div>"
      ],
      "text/plain": [
       "             H-L       O-C     3day MA    10day MA    30day MA    Std_dev\n",
       "30      3.269997  0.479995  109.949997  111.008999  112.777666   2.073025\n",
       "31      5.120003 -1.040001  111.203331  110.763999  112.303000   1.485878\n",
       "32      2.220001  1.680000  111.056666  110.225999  111.981333   1.036451\n",
       "33      1.450005 -0.480004  111.656667  110.127999  111.917666   0.987193\n",
       "34      2.669998  0.790001  111.753334  110.200999  111.760000   0.966555\n",
       "...          ...       ...         ...         ...         ...        ...\n",
       "851259  1.080002 -0.110001   50.506667   58.246999   65.910000  34.653861\n",
       "851260  0.620002 -0.029999   68.399999   54.977000   66.644334  26.118796\n",
       "851261  0.470002 -0.110000   69.856667   55.211000   65.543334  25.793282\n",
       "851262  1.180000  0.720001   66.589999   56.838000   64.872000  24.514858\n",
       "851263  1.090001 -0.570000   47.340000   55.346000   64.303000  24.737406\n",
       "\n",
       "[851234 rows x 6 columns]"
      ]
     },
     "execution_count": 23,
     "metadata": {},
     "output_type": "execute_result"
    }
   ],
   "source": [
    "X = dataset.iloc[:, 7:-1]\n",
    "y = dataset.iloc[:, -1]\n",
    "X"
   ]
  },
  {
   "cell_type": "code",
   "execution_count": 24,
   "metadata": {
    "id": "QhaCtnJjy8x2"
   },
   "outputs": [],
   "source": [
    "split = int(len(dataset)*0.8)\n",
    "X_train, X_test, y_train, y_test = X[:split], X[split:], y[:split], y[split:]"
   ]
  },
  {
   "cell_type": "code",
   "execution_count": 25,
   "metadata": {
    "id": "e0MCb6fuy_EC"
   },
   "outputs": [],
   "source": [
    "from sklearn.preprocessing import StandardScaler\n",
    "sc = StandardScaler()\n",
    "X_train = sc.fit_transform(X_train)\n",
    "X_test = sc.transform(X_test)"
   ]
  },
  {
   "cell_type": "code",
   "execution_count": 31,
   "metadata": {
    "id": "D8x1JC6VzBU7"
   },
   "outputs": [
    {
     "name": "stdout",
     "output_type": "stream",
     "text": [
      "Collecting tensorflow\n",
      "  Downloading tensorflow-2.5.0-cp38-cp38-win_amd64.whl (422.6 MB)\n"
     ]
    },
    {
     "name": "stderr",
     "output_type": "stream",
     "text": [
      "ERROR: Exception:\n",
      "Traceback (most recent call last):\n",
      "  File \"D:\\anaconda3\\lib\\site-packages\\pip\\_vendor\\urllib3\\response.py\", line 437, in _error_catcher\n",
      "    yield\n",
      "  File \"D:\\anaconda3\\lib\\site-packages\\pip\\_vendor\\urllib3\\response.py\", line 519, in read\n",
      "    data = self._fp.read(amt) if not fp_closed else b\"\"\n",
      "  File \"D:\\anaconda3\\lib\\site-packages\\pip\\_vendor\\cachecontrol\\filewrapper.py\", line 62, in read\n",
      "    data = self.__fp.read(amt)\n",
      "  File \"D:\\anaconda3\\lib\\http\\client.py\", line 458, in read\n",
      "    n = self.readinto(b)\n",
      "  File \"D:\\anaconda3\\lib\\http\\client.py\", line 502, in readinto\n",
      "    n = self.fp.readinto(b)\n",
      "  File \"D:\\anaconda3\\lib\\socket.py\", line 669, in readinto\n",
      "    return self._sock.recv_into(b)\n",
      "  File \"D:\\anaconda3\\lib\\ssl.py\", line 1241, in recv_into\n",
      "    return self.read(nbytes, buffer)\n",
      "  File \"D:\\anaconda3\\lib\\ssl.py\", line 1099, in read\n",
      "    return self._sslobj.read(len, buffer)\n",
      "socket.timeout: The read operation timed out\n",
      "\n",
      "During handling of the above exception, another exception occurred:\n",
      "\n",
      "Traceback (most recent call last):\n",
      "  File \"D:\\anaconda3\\lib\\site-packages\\pip\\_internal\\cli\\base_command.py\", line 228, in _main\n",
      "    status = self.run(options, args)\n",
      "  File \"D:\\anaconda3\\lib\\site-packages\\pip\\_internal\\cli\\req_command.py\", line 182, in wrapper\n",
      "    return func(self, options, args)\n",
      "  File \"D:\\anaconda3\\lib\\site-packages\\pip\\_internal\\commands\\install.py\", line 323, in run\n",
      "    requirement_set = resolver.resolve(\n",
      "  File \"D:\\anaconda3\\lib\\site-packages\\pip\\_internal\\resolution\\legacy\\resolver.py\", line 183, in resolve\n",
      "    discovered_reqs.extend(self._resolve_one(requirement_set, req))\n",
      "  File \"D:\\anaconda3\\lib\\site-packages\\pip\\_internal\\resolution\\legacy\\resolver.py\", line 388, in _resolve_one\n",
      "    abstract_dist = self._get_abstract_dist_for(req_to_install)\n",
      "  File \"D:\\anaconda3\\lib\\site-packages\\pip\\_internal\\resolution\\legacy\\resolver.py\", line 340, in _get_abstract_dist_for\n",
      "    abstract_dist = self.preparer.prepare_linked_requirement(req)\n",
      "  File \"D:\\anaconda3\\lib\\site-packages\\pip\\_internal\\operations\\prepare.py\", line 467, in prepare_linked_requirement\n",
      "    local_file = unpack_url(\n",
      "  File \"D:\\anaconda3\\lib\\site-packages\\pip\\_internal\\operations\\prepare.py\", line 255, in unpack_url\n",
      "    file = get_http_url(\n",
      "  File \"D:\\anaconda3\\lib\\site-packages\\pip\\_internal\\operations\\prepare.py\", line 129, in get_http_url\n",
      "    from_path, content_type = _download_http_url(\n",
      "  File \"D:\\anaconda3\\lib\\site-packages\\pip\\_internal\\operations\\prepare.py\", line 282, in _download_http_url\n",
      "    for chunk in download.chunks:\n",
      "  File \"D:\\anaconda3\\lib\\site-packages\\pip\\_internal\\cli\\progress_bars.py\", line 168, in iter\n",
      "    for x in it:\n",
      "  File \"D:\\anaconda3\\lib\\site-packages\\pip\\_internal\\network\\utils.py\", line 64, in response_chunks\n",
      "    for chunk in response.raw.stream(\n",
      "  File \"D:\\anaconda3\\lib\\site-packages\\pip\\_vendor\\urllib3\\response.py\", line 576, in stream\n",
      "    data = self.read(amt=amt, decode_content=decode_content)\n",
      "  File \"D:\\anaconda3\\lib\\site-packages\\pip\\_vendor\\urllib3\\response.py\", line 541, in read\n",
      "    raise IncompleteRead(self._fp_bytes_read, self.length_remaining)\n",
      "  File \"D:\\anaconda3\\lib\\contextlib.py\", line 131, in __exit__\n",
      "    self.gen.throw(type, value, traceback)\n",
      "  File \"D:\\anaconda3\\lib\\site-packages\\pip\\_vendor\\urllib3\\response.py\", line 442, in _error_catcher\n",
      "    raise ReadTimeoutError(self._pool, None, \"Read timed out.\")\n",
      "pip._vendor.urllib3.exceptions.ReadTimeoutError: HTTPSConnectionPool(host='files.pythonhosted.org', port=443): Read timed out.\n"
     ]
    },
    {
     "ename": "ImportError",
     "evalue": "Keras requires TensorFlow 2.2 or higher. Install TensorFlow via `pip install tensorflow`",
     "output_type": "error",
     "traceback": [
      "\u001b[1;31m---------------------------------------------------------------------------\u001b[0m",
      "\u001b[1;31mModuleNotFoundError\u001b[0m                       Traceback (most recent call last)",
      "\u001b[1;32mD:\\anaconda3\\lib\\site-packages\\keras\\__init__.py\u001b[0m in \u001b[0;36m<module>\u001b[1;34m\u001b[0m\n\u001b[0;32m      2\u001b[0m \u001b[1;32mtry\u001b[0m\u001b[1;33m:\u001b[0m\u001b[1;33m\u001b[0m\u001b[1;33m\u001b[0m\u001b[0m\n\u001b[1;32m----> 3\u001b[1;33m     \u001b[1;32mfrom\u001b[0m \u001b[0mtensorflow\u001b[0m\u001b[1;33m.\u001b[0m\u001b[0mkeras\u001b[0m\u001b[1;33m.\u001b[0m\u001b[0mlayers\u001b[0m\u001b[1;33m.\u001b[0m\u001b[0mexperimental\u001b[0m\u001b[1;33m.\u001b[0m\u001b[0mpreprocessing\u001b[0m \u001b[1;32mimport\u001b[0m \u001b[0mRandomRotation\u001b[0m\u001b[1;33m\u001b[0m\u001b[1;33m\u001b[0m\u001b[0m\n\u001b[0m\u001b[0;32m      4\u001b[0m \u001b[1;32mexcept\u001b[0m \u001b[0mImportError\u001b[0m\u001b[1;33m:\u001b[0m\u001b[1;33m\u001b[0m\u001b[1;33m\u001b[0m\u001b[0m\n",
      "\u001b[1;31mModuleNotFoundError\u001b[0m: No module named 'tensorflow'",
      "\nDuring handling of the above exception, another exception occurred:\n",
      "\u001b[1;31mImportError\u001b[0m                               Traceback (most recent call last)",
      "\u001b[1;32m<ipython-input-31-6cdf5196d971>\u001b[0m in \u001b[0;36m<module>\u001b[1;34m\u001b[0m\n\u001b[0;32m      1\u001b[0m \u001b[0mget_ipython\u001b[0m\u001b[1;33m(\u001b[0m\u001b[1;33m)\u001b[0m\u001b[1;33m.\u001b[0m\u001b[0msystem\u001b[0m\u001b[1;33m(\u001b[0m\u001b[1;34m'pip install tensorflow'\u001b[0m\u001b[1;33m)\u001b[0m\u001b[1;33m\u001b[0m\u001b[1;33m\u001b[0m\u001b[0m\n\u001b[1;32m----> 2\u001b[1;33m \u001b[1;32mfrom\u001b[0m \u001b[0mkeras\u001b[0m\u001b[1;33m.\u001b[0m\u001b[0mmodels\u001b[0m \u001b[1;32mimport\u001b[0m \u001b[0mSequential\u001b[0m\u001b[1;33m\u001b[0m\u001b[1;33m\u001b[0m\u001b[0m\n\u001b[0m\u001b[0;32m      3\u001b[0m \u001b[1;32mfrom\u001b[0m \u001b[0mkeras\u001b[0m\u001b[1;33m.\u001b[0m\u001b[0mlayers\u001b[0m \u001b[1;32mimport\u001b[0m \u001b[0mDense\u001b[0m\u001b[1;33m\u001b[0m\u001b[1;33m\u001b[0m\u001b[0m\n\u001b[0;32m      4\u001b[0m \u001b[1;32mfrom\u001b[0m \u001b[0mkeras\u001b[0m\u001b[1;33m.\u001b[0m\u001b[0mlayers\u001b[0m \u001b[1;32mimport\u001b[0m \u001b[0mDropout\u001b[0m\u001b[1;33m\u001b[0m\u001b[1;33m\u001b[0m\u001b[0m\n",
      "\u001b[1;32mD:\\anaconda3\\lib\\site-packages\\keras\\__init__.py\u001b[0m in \u001b[0;36m<module>\u001b[1;34m\u001b[0m\n\u001b[0;32m      3\u001b[0m     \u001b[1;32mfrom\u001b[0m \u001b[0mtensorflow\u001b[0m\u001b[1;33m.\u001b[0m\u001b[0mkeras\u001b[0m\u001b[1;33m.\u001b[0m\u001b[0mlayers\u001b[0m\u001b[1;33m.\u001b[0m\u001b[0mexperimental\u001b[0m\u001b[1;33m.\u001b[0m\u001b[0mpreprocessing\u001b[0m \u001b[1;32mimport\u001b[0m \u001b[0mRandomRotation\u001b[0m\u001b[1;33m\u001b[0m\u001b[1;33m\u001b[0m\u001b[0m\n\u001b[0;32m      4\u001b[0m \u001b[1;32mexcept\u001b[0m \u001b[0mImportError\u001b[0m\u001b[1;33m:\u001b[0m\u001b[1;33m\u001b[0m\u001b[1;33m\u001b[0m\u001b[0m\n\u001b[1;32m----> 5\u001b[1;33m     raise ImportError(\n\u001b[0m\u001b[0;32m      6\u001b[0m         \u001b[1;34m'Keras requires TensorFlow 2.2 or higher. '\u001b[0m\u001b[1;33m\u001b[0m\u001b[1;33m\u001b[0m\u001b[0m\n\u001b[0;32m      7\u001b[0m         'Install TensorFlow via `pip install tensorflow`')\n",
      "\u001b[1;31mImportError\u001b[0m: Keras requires TensorFlow 2.2 or higher. Install TensorFlow via `pip install tensorflow`"
     ]
    }
   ],
   "source": [
    "!pip install tensorflow\n",
    "from keras.models import Sequential\n",
    "from keras.layers import Dense\n",
    "from keras.layers import Dropout"
   ]
  },
  {
   "cell_type": "code",
   "execution_count": null,
   "metadata": {
    "id": "g63yucLlzDqy"
   },
   "outputs": [],
   "source": [
    "classifier = Sequential()"
   ]
  },
  {
   "cell_type": "code",
   "execution_count": null,
   "metadata": {
    "id": "2x1hW0IyzGUv"
   },
   "outputs": [],
   "source": [
    "classifier.add(Dense(units = 16, kernel_initializer = 'uniform', activation = 'relu', input_dim = X.shape[1]))"
   ]
  },
  {
   "cell_type": "code",
   "execution_count": null,
   "metadata": {
    "id": "Oh6VFffkzJKx"
   },
   "outputs": [],
   "source": [
    "classifier.add(Dense(units = 32, kernel_initializer = 'uniform', activation = 'relu'))"
   ]
  },
  {
   "cell_type": "code",
   "execution_count": null,
   "metadata": {
    "id": "32BPfgp8zLdu"
   },
   "outputs": [],
   "source": [
    "classifier.add(Dense(units = 32, kernel_initializer = 'uniform', activation = 'relu'))"
   ]
  },
  {
   "cell_type": "code",
   "execution_count": null,
   "metadata": {
    "id": "vvfEYIydzMHu"
   },
   "outputs": [],
   "source": [
    "classifier.add(Dense(units = 32, kernel_initializer = 'uniform', activation = 'relu'))"
   ]
  },
  {
   "cell_type": "code",
   "execution_count": null,
   "metadata": {
    "id": "q55G3BnxzMmN"
   },
   "outputs": [],
   "source": [
    "classifier.add(Dense(units = 1, kernel_initializer = 'uniform', activation = 'sigmoid'))"
   ]
  },
  {
   "cell_type": "code",
   "execution_count": null,
   "metadata": {
    "id": "AYjpvIuvzOrh"
   },
   "outputs": [],
   "source": [
    "classifier.compile(optimizer =\"adam\" , loss = 'mean_squared_error', metrics = ['accuracy'])"
   ]
  },
  {
   "cell_type": "code",
   "execution_count": null,
   "metadata": {
    "colab": {
     "base_uri": "https://localhost:8080/"
    },
    "id": "pqyu_lI6zRHu",
    "outputId": "748545e3-cb83-4426-db89-87ea023623de"
   },
   "outputs": [
    {
     "name": "stdout",
     "output_type": "stream",
     "text": [
      "Epoch 1/100\n",
      "5739/5739 [==============================] - 9s 2ms/step - loss: 0.2208 - accuracy: 0.6394 - val_loss: 0.2112 - val_accuracy: 0.6667\n",
      "Epoch 2/100\n",
      "5739/5739 [==============================] - 9s 1ms/step - loss: 0.2086 - accuracy: 0.6743 - val_loss: 0.2108 - val_accuracy: 0.6674\n",
      "Epoch 3/100\n",
      "5739/5739 [==============================] - 9s 1ms/step - loss: 0.2045 - accuracy: 0.6814 - val_loss: 0.2055 - val_accuracy: 0.6755\n",
      "Epoch 4/100\n",
      "5739/5739 [==============================] - 9s 2ms/step - loss: 0.2029 - accuracy: 0.6853 - val_loss: 0.2024 - val_accuracy: 0.6837\n",
      "Epoch 5/100\n",
      "5739/5739 [==============================] - 9s 2ms/step - loss: 0.2009 - accuracy: 0.6870 - val_loss: 0.2119 - val_accuracy: 0.6567\n",
      "Epoch 6/100\n",
      "5739/5739 [==============================] - 10s 2ms/step - loss: 0.1992 - accuracy: 0.6894 - val_loss: 0.2003 - val_accuracy: 0.6935\n",
      "Epoch 7/100\n",
      "5739/5739 [==============================] - 9s 2ms/step - loss: 0.1988 - accuracy: 0.6928 - val_loss: 0.1985 - val_accuracy: 0.6905\n",
      "Epoch 8/100\n",
      "5739/5739 [==============================] - 9s 2ms/step - loss: 0.1976 - accuracy: 0.6952 - val_loss: 0.1966 - val_accuracy: 0.6991\n",
      "Epoch 9/100\n",
      "5739/5739 [==============================] - 9s 1ms/step - loss: 0.1965 - accuracy: 0.6973 - val_loss: 0.1978 - val_accuracy: 0.6971\n",
      "Epoch 10/100\n",
      "5739/5739 [==============================] - 9s 1ms/step - loss: 0.1954 - accuracy: 0.6994 - val_loss: 0.1992 - val_accuracy: 0.6904\n",
      "Epoch 11/100\n",
      "5739/5739 [==============================] - 9s 1ms/step - loss: 0.1949 - accuracy: 0.6982 - val_loss: 0.1974 - val_accuracy: 0.7012\n",
      "Epoch 12/100\n",
      "5739/5739 [==============================] - 9s 1ms/step - loss: 0.1942 - accuracy: 0.6999 - val_loss: 0.1974 - val_accuracy: 0.6966\n",
      "Epoch 13/100\n",
      "5739/5739 [==============================] - 9s 2ms/step - loss: 0.1940 - accuracy: 0.6988 - val_loss: 0.1959 - val_accuracy: 0.6960\n",
      "Epoch 14/100\n",
      "5739/5739 [==============================] - 9s 2ms/step - loss: 0.1930 - accuracy: 0.7006 - val_loss: 0.2061 - val_accuracy: 0.6876\n",
      "Epoch 15/100\n",
      "5739/5739 [==============================] - 9s 1ms/step - loss: 0.1922 - accuracy: 0.7003 - val_loss: 0.1968 - val_accuracy: 0.6987\n",
      "Epoch 16/100\n",
      "5739/5739 [==============================] - 9s 1ms/step - loss: 0.1918 - accuracy: 0.7013 - val_loss: 0.1959 - val_accuracy: 0.6949\n",
      "Epoch 17/100\n",
      "5739/5739 [==============================] - 9s 1ms/step - loss: 0.1912 - accuracy: 0.7037 - val_loss: 0.1977 - val_accuracy: 0.6973\n",
      "Epoch 18/100\n",
      "5739/5739 [==============================] - 9s 1ms/step - loss: 0.1909 - accuracy: 0.7042 - val_loss: 0.1941 - val_accuracy: 0.6992\n",
      "Epoch 19/100\n",
      "5739/5739 [==============================] - 9s 2ms/step - loss: 0.1905 - accuracy: 0.7047 - val_loss: 0.1914 - val_accuracy: 0.6982\n",
      "Epoch 20/100\n",
      "5739/5739 [==============================] - 9s 1ms/step - loss: 0.1897 - accuracy: 0.7061 - val_loss: 0.1927 - val_accuracy: 0.7026\n",
      "Epoch 21/100\n",
      "5739/5739 [==============================] - 9s 1ms/step - loss: 0.1891 - accuracy: 0.7068 - val_loss: 0.1940 - val_accuracy: 0.7034\n",
      "Epoch 22/100\n",
      "5739/5739 [==============================] - 9s 1ms/step - loss: 0.1874 - accuracy: 0.7108 - val_loss: 0.1910 - val_accuracy: 0.7045\n",
      "Epoch 23/100\n",
      "5739/5739 [==============================] - 9s 2ms/step - loss: 0.1871 - accuracy: 0.7109 - val_loss: 0.1921 - val_accuracy: 0.6985\n",
      "Epoch 24/100\n",
      "5739/5739 [==============================] - 9s 2ms/step - loss: 0.1851 - accuracy: 0.7166 - val_loss: 0.1911 - val_accuracy: 0.7084\n",
      "Epoch 25/100\n",
      "5739/5739 [==============================] - 9s 2ms/step - loss: 0.1839 - accuracy: 0.7177 - val_loss: 0.1887 - val_accuracy: 0.7099\n",
      "Epoch 26/100\n",
      "5739/5739 [==============================] - 9s 2ms/step - loss: 0.1818 - accuracy: 0.7199 - val_loss: 0.1856 - val_accuracy: 0.7198\n",
      "Epoch 27/100\n",
      "5739/5739 [==============================] - 9s 2ms/step - loss: 0.1809 - accuracy: 0.7246 - val_loss: 0.1915 - val_accuracy: 0.7117\n",
      "Epoch 28/100\n",
      "5739/5739 [==============================] - 9s 1ms/step - loss: 0.1804 - accuracy: 0.7247 - val_loss: 0.1859 - val_accuracy: 0.7196\n",
      "Epoch 29/100\n",
      "5739/5739 [==============================] - 9s 2ms/step - loss: 0.1779 - accuracy: 0.7298 - val_loss: 0.1846 - val_accuracy: 0.7200\n",
      "Epoch 30/100\n",
      "5739/5739 [==============================] - 9s 2ms/step - loss: 0.1769 - accuracy: 0.7320 - val_loss: 0.1827 - val_accuracy: 0.7195\n",
      "Epoch 31/100\n",
      "5739/5739 [==============================] - 9s 2ms/step - loss: 0.1765 - accuracy: 0.7318 - val_loss: 0.1814 - val_accuracy: 0.7237\n",
      "Epoch 32/100\n",
      "5739/5739 [==============================] - 9s 1ms/step - loss: 0.1748 - accuracy: 0.7357 - val_loss: 0.1911 - val_accuracy: 0.7098\n",
      "Epoch 33/100\n",
      "5739/5739 [==============================] - 9s 1ms/step - loss: 0.1737 - accuracy: 0.7374 - val_loss: 0.1876 - val_accuracy: 0.7143\n",
      "Epoch 34/100\n",
      "5739/5739 [==============================] - 9s 1ms/step - loss: 0.1719 - accuracy: 0.7402 - val_loss: 0.1794 - val_accuracy: 0.7292\n",
      "Epoch 35/100\n",
      "5739/5739 [==============================] - 9s 2ms/step - loss: 0.1706 - accuracy: 0.7423 - val_loss: 0.1872 - val_accuracy: 0.7168\n",
      "Epoch 36/100\n",
      "5739/5739 [==============================] - 9s 2ms/step - loss: 0.1687 - accuracy: 0.7461 - val_loss: 0.1800 - val_accuracy: 0.7347\n",
      "Epoch 37/100\n",
      "5739/5739 [==============================] - 9s 1ms/step - loss: 0.1678 - accuracy: 0.7491 - val_loss: 0.1872 - val_accuracy: 0.7184\n",
      "Epoch 38/100\n",
      "5739/5739 [==============================] - 9s 1ms/step - loss: 0.1684 - accuracy: 0.7452 - val_loss: 0.1854 - val_accuracy: 0.7172\n",
      "Epoch 39/100\n",
      "5739/5739 [==============================] - 9s 2ms/step - loss: 0.1660 - accuracy: 0.7495 - val_loss: 0.1796 - val_accuracy: 0.7271\n",
      "Epoch 40/100\n",
      "5739/5739 [==============================] - 9s 2ms/step - loss: 0.1653 - accuracy: 0.7515 - val_loss: 0.1885 - val_accuracy: 0.7218\n",
      "Epoch 41/100\n",
      "5739/5739 [==============================] - 9s 2ms/step - loss: 0.1653 - accuracy: 0.7505 - val_loss: 0.1882 - val_accuracy: 0.7153\n",
      "Epoch 42/100\n",
      "5739/5739 [==============================] - 9s 2ms/step - loss: 0.1642 - accuracy: 0.7550 - val_loss: 0.1788 - val_accuracy: 0.7301\n",
      "Epoch 43/100\n",
      "5739/5739 [==============================] - 9s 2ms/step - loss: 0.1637 - accuracy: 0.7530 - val_loss: 0.1812 - val_accuracy: 0.7257\n",
      "Epoch 44/100\n",
      "5739/5739 [==============================] - 9s 2ms/step - loss: 0.1629 - accuracy: 0.7554 - val_loss: 0.1726 - val_accuracy: 0.7360\n",
      "Epoch 45/100\n",
      "5739/5739 [==============================] - 9s 1ms/step - loss: 0.1623 - accuracy: 0.7560 - val_loss: 0.1762 - val_accuracy: 0.7341\n",
      "Epoch 46/100\n",
      "5739/5739 [==============================] - 9s 2ms/step - loss: 0.1621 - accuracy: 0.7577 - val_loss: 0.1770 - val_accuracy: 0.7289\n",
      "Epoch 47/100\n",
      "5739/5739 [==============================] - 9s 2ms/step - loss: 0.1612 - accuracy: 0.7583 - val_loss: 0.1766 - val_accuracy: 0.7339\n",
      "Epoch 48/100\n",
      "5739/5739 [==============================] - 9s 2ms/step - loss: 0.1604 - accuracy: 0.7607 - val_loss: 0.1777 - val_accuracy: 0.7294\n",
      "Epoch 49/100\n",
      "5739/5739 [==============================] - 10s 2ms/step - loss: 0.1600 - accuracy: 0.7593 - val_loss: 0.1821 - val_accuracy: 0.7261\n",
      "Epoch 50/100\n",
      "5739/5739 [==============================] - 9s 2ms/step - loss: 0.1593 - accuracy: 0.7623 - val_loss: 0.1902 - val_accuracy: 0.7089\n",
      "Epoch 51/100\n",
      "5739/5739 [==============================] - 9s 1ms/step - loss: 0.1593 - accuracy: 0.7607 - val_loss: 0.1852 - val_accuracy: 0.7184\n",
      "Epoch 52/100\n",
      "5739/5739 [==============================] - 9s 1ms/step - loss: 0.1581 - accuracy: 0.7642 - val_loss: 0.1741 - val_accuracy: 0.7343\n",
      "Epoch 53/100\n",
      "5739/5739 [==============================] - 9s 1ms/step - loss: 0.1567 - accuracy: 0.7654 - val_loss: 0.1756 - val_accuracy: 0.7343\n",
      "Epoch 54/100\n",
      "5739/5739 [==============================] - 9s 1ms/step - loss: 0.1570 - accuracy: 0.7660 - val_loss: 0.1778 - val_accuracy: 0.7289\n",
      "Epoch 55/100\n",
      "5739/5739 [==============================] - 9s 1ms/step - loss: 0.1570 - accuracy: 0.7651 - val_loss: 0.1821 - val_accuracy: 0.7247\n",
      "Epoch 56/100\n",
      "5739/5739 [==============================] - 9s 2ms/step - loss: 0.1552 - accuracy: 0.7669 - val_loss: 0.1790 - val_accuracy: 0.7356\n",
      "Epoch 57/100\n",
      "5739/5739 [==============================] - 9s 2ms/step - loss: 0.1583 - accuracy: 0.7645 - val_loss: 0.1714 - val_accuracy: 0.7370\n",
      "Epoch 58/100\n",
      "5739/5739 [==============================] - 9s 2ms/step - loss: 0.1538 - accuracy: 0.7699 - val_loss: 0.1793 - val_accuracy: 0.7260\n",
      "Epoch 59/100\n",
      "5739/5739 [==============================] - 9s 1ms/step - loss: 0.1538 - accuracy: 0.7687 - val_loss: 0.1796 - val_accuracy: 0.7349\n",
      "Epoch 60/100\n",
      "5739/5739 [==============================] - 9s 1ms/step - loss: 0.1540 - accuracy: 0.7677 - val_loss: 0.1692 - val_accuracy: 0.7449\n",
      "Epoch 61/100\n",
      "5739/5739 [==============================] - 9s 1ms/step - loss: 0.1528 - accuracy: 0.7705 - val_loss: 0.1942 - val_accuracy: 0.6994\n",
      "Epoch 62/100\n",
      "5739/5739 [==============================] - 9s 1ms/step - loss: 0.1523 - accuracy: 0.7706 - val_loss: 0.1740 - val_accuracy: 0.7358\n",
      "Epoch 63/100\n",
      "5739/5739 [==============================] - 9s 1ms/step - loss: 0.1536 - accuracy: 0.7680 - val_loss: 0.1777 - val_accuracy: 0.7263\n",
      "Epoch 64/100\n",
      "5739/5739 [==============================] - 9s 2ms/step - loss: 0.1518 - accuracy: 0.7728 - val_loss: 0.1728 - val_accuracy: 0.7341\n",
      "Epoch 65/100\n",
      "5739/5739 [==============================] - 9s 1ms/step - loss: 0.1517 - accuracy: 0.7735 - val_loss: 0.1807 - val_accuracy: 0.7225\n",
      "Epoch 66/100\n",
      "5739/5739 [==============================] - 9s 2ms/step - loss: 0.1513 - accuracy: 0.7715 - val_loss: 0.1744 - val_accuracy: 0.7403\n",
      "Epoch 67/100\n",
      "5739/5739 [==============================] - 9s 2ms/step - loss: 0.1497 - accuracy: 0.7757 - val_loss: 0.1750 - val_accuracy: 0.7370\n",
      "Epoch 68/100\n",
      "5739/5739 [==============================] - 9s 2ms/step - loss: 0.1509 - accuracy: 0.7717 - val_loss: 0.1714 - val_accuracy: 0.7384\n",
      "Epoch 69/100\n",
      "5739/5739 [==============================] - 9s 1ms/step - loss: 0.1491 - accuracy: 0.7762 - val_loss: 0.1779 - val_accuracy: 0.7325\n",
      "Epoch 70/100\n",
      "5739/5739 [==============================] - 9s 2ms/step - loss: 0.1497 - accuracy: 0.7751 - val_loss: 0.1775 - val_accuracy: 0.7345\n",
      "Epoch 71/100\n",
      "5739/5739 [==============================] - 9s 2ms/step - loss: 0.1499 - accuracy: 0.7759 - val_loss: 0.1719 - val_accuracy: 0.7362\n",
      "Epoch 72/100\n",
      "5739/5739 [==============================] - 9s 2ms/step - loss: 0.1488 - accuracy: 0.7749 - val_loss: 0.1687 - val_accuracy: 0.7468\n",
      "Epoch 73/100\n",
      "5739/5739 [==============================] - 9s 1ms/step - loss: 0.1490 - accuracy: 0.7767 - val_loss: 0.1799 - val_accuracy: 0.7295\n",
      "Epoch 74/100\n",
      "5739/5739 [==============================] - 9s 2ms/step - loss: 0.1485 - accuracy: 0.7772 - val_loss: 0.1722 - val_accuracy: 0.7438\n",
      "Epoch 75/100\n",
      "5739/5739 [==============================] - 9s 2ms/step - loss: 0.1481 - accuracy: 0.7780 - val_loss: 0.1792 - val_accuracy: 0.7359\n",
      "Epoch 76/100\n",
      "5739/5739 [==============================] - 9s 2ms/step - loss: 0.1486 - accuracy: 0.7779 - val_loss: 0.1721 - val_accuracy: 0.7394\n",
      "Epoch 77/100\n",
      "5739/5739 [==============================] - 10s 2ms/step - loss: 0.1476 - accuracy: 0.7781 - val_loss: 0.1887 - val_accuracy: 0.7195\n",
      "Epoch 78/100\n",
      "5739/5739 [==============================] - 9s 2ms/step - loss: 0.1485 - accuracy: 0.7768 - val_loss: 0.1709 - val_accuracy: 0.7445\n",
      "Epoch 79/100\n",
      "5739/5739 [==============================] - 9s 2ms/step - loss: 0.1470 - accuracy: 0.7786 - val_loss: 0.1843 - val_accuracy: 0.7212\n",
      "Epoch 80/100\n",
      "5739/5739 [==============================] - 9s 2ms/step - loss: 0.1477 - accuracy: 0.7779 - val_loss: 0.1743 - val_accuracy: 0.7371\n",
      "Epoch 81/100\n",
      "5739/5739 [==============================] - 9s 2ms/step - loss: 0.1466 - accuracy: 0.7782 - val_loss: 0.1759 - val_accuracy: 0.7283\n",
      "Epoch 82/100\n",
      "5739/5739 [==============================] - 9s 2ms/step - loss: 0.1466 - accuracy: 0.7800 - val_loss: 0.1830 - val_accuracy: 0.7303\n",
      "Epoch 83/100\n",
      "5739/5739 [==============================] - 9s 1ms/step - loss: 0.1463 - accuracy: 0.7805 - val_loss: 0.1693 - val_accuracy: 0.7414\n",
      "Epoch 84/100\n",
      "5739/5739 [==============================] - 9s 2ms/step - loss: 0.1453 - accuracy: 0.7804 - val_loss: 0.1862 - val_accuracy: 0.7267\n",
      "Epoch 85/100\n",
      "5739/5739 [==============================] - 10s 2ms/step - loss: 0.1453 - accuracy: 0.7823 - val_loss: 0.1765 - val_accuracy: 0.7368\n",
      "Epoch 86/100\n",
      "5739/5739 [==============================] - 9s 1ms/step - loss: 0.1458 - accuracy: 0.7802 - val_loss: 0.1758 - val_accuracy: 0.7394\n",
      "Epoch 87/100\n",
      "5739/5739 [==============================] - 9s 1ms/step - loss: 0.1457 - accuracy: 0.7805 - val_loss: 0.1710 - val_accuracy: 0.7483\n",
      "Epoch 88/100\n",
      "5739/5739 [==============================] - 9s 1ms/step - loss: 0.1446 - accuracy: 0.7820 - val_loss: 0.1709 - val_accuracy: 0.7427\n",
      "Epoch 89/100\n",
      "5739/5739 [==============================] - 9s 1ms/step - loss: 0.1445 - accuracy: 0.7807 - val_loss: 0.1702 - val_accuracy: 0.7430\n",
      "Epoch 90/100\n",
      "5739/5739 [==============================] - 9s 1ms/step - loss: 0.1451 - accuracy: 0.7808 - val_loss: 0.1722 - val_accuracy: 0.7442\n",
      "Epoch 91/100\n",
      "5739/5739 [==============================] - 9s 2ms/step - loss: 0.1440 - accuracy: 0.7823 - val_loss: 0.1748 - val_accuracy: 0.7422\n",
      "Epoch 92/100\n",
      "5739/5739 [==============================] - 9s 2ms/step - loss: 0.1434 - accuracy: 0.7831 - val_loss: 0.1863 - val_accuracy: 0.7298\n",
      "Epoch 93/100\n",
      "5739/5739 [==============================] - 9s 2ms/step - loss: 0.1439 - accuracy: 0.7829 - val_loss: 0.1808 - val_accuracy: 0.7280\n",
      "Epoch 94/100\n",
      "5739/5739 [==============================] - 9s 2ms/step - loss: 0.1437 - accuracy: 0.7835 - val_loss: 0.1695 - val_accuracy: 0.7521\n",
      "Epoch 95/100\n",
      "5739/5739 [==============================] - 9s 2ms/step - loss: 0.1430 - accuracy: 0.7831 - val_loss: 0.1718 - val_accuracy: 0.7439\n",
      "Epoch 96/100\n",
      "5739/5739 [==============================] - 9s 2ms/step - loss: 0.1437 - accuracy: 0.7834 - val_loss: 0.1750 - val_accuracy: 0.7372\n",
      "Epoch 97/100\n",
      "5739/5739 [==============================] - 9s 2ms/step - loss: 0.1427 - accuracy: 0.7853 - val_loss: 0.1689 - val_accuracy: 0.7480\n",
      "Epoch 98/100\n",
      "5739/5739 [==============================] - 9s 1ms/step - loss: 0.1442 - accuracy: 0.7827 - val_loss: 0.1744 - val_accuracy: 0.7439\n",
      "Epoch 99/100\n",
      "5739/5739 [==============================] - 9s 2ms/step - loss: 0.1426 - accuracy: 0.7850 - val_loss: 0.1779 - val_accuracy: 0.7352\n",
      "Epoch 100/100\n",
      "5739/5739 [==============================] - 9s 1ms/step - loss: 0.1422 - accuracy: 0.7859 - val_loss: 0.1787 - val_accuracy: 0.7362\n"
     ]
    }
   ],
   "source": [
    "history=classifier.fit(X, y, validation_split=0.33, epochs=100, batch_size=10)"
   ]
  },
  {
   "cell_type": "code",
   "execution_count": 15,
   "metadata": {
    "id": "0N49uaRtzUyi"
   },
   "outputs": [
    {
     "ename": "NameError",
     "evalue": "name 'classifier' is not defined",
     "output_type": "error",
     "traceback": [
      "\u001b[1;31m---------------------------------------------------------------------------\u001b[0m",
      "\u001b[1;31mNameError\u001b[0m                                 Traceback (most recent call last)",
      "\u001b[1;32m<ipython-input-15-88c8a27aa2bd>\u001b[0m in \u001b[0;36m<module>\u001b[1;34m\u001b[0m\n\u001b[1;32m----> 1\u001b[1;33m \u001b[0my_pred\u001b[0m \u001b[1;33m=\u001b[0m \u001b[0mclassifier\u001b[0m\u001b[1;33m.\u001b[0m\u001b[0mpredict\u001b[0m\u001b[1;33m(\u001b[0m\u001b[0mX_test\u001b[0m\u001b[1;33m)\u001b[0m\u001b[1;33m\u001b[0m\u001b[1;33m\u001b[0m\u001b[0m\n\u001b[0m\u001b[0;32m      2\u001b[0m \u001b[0my_pred\u001b[0m \u001b[1;33m=\u001b[0m \u001b[1;33m(\u001b[0m\u001b[0my_pred\u001b[0m \u001b[1;33m>\u001b[0m \u001b[1;36m0.5\u001b[0m\u001b[1;33m)\u001b[0m\u001b[1;33m\u001b[0m\u001b[1;33m\u001b[0m\u001b[0m\n",
      "\u001b[1;31mNameError\u001b[0m: name 'classifier' is not defined"
     ]
    }
   ],
   "source": [
    "y_pred = classifier.predict(X_test)\n",
    "y_pred = (y_pred > 0.5)"
   ]
  },
  {
   "cell_type": "code",
   "execution_count": null,
   "metadata": {
    "colab": {
     "base_uri": "https://localhost:8080/",
     "height": 494
    },
    "id": "AlhBzVXlhXV3",
    "outputId": "b849c93b-250c-4859-84f7-69630e642d5c"
   },
   "outputs": [
    {
     "name": "stdout",
     "output_type": "stream",
     "text": [
      "dict_keys(['loss', 'accuracy'])\n"
     ]
    },
    {
     "ename": "KeyError",
     "evalue": "ignored",
     "output_type": "error",
     "traceback": [
      "\u001b[0;31m---------------------------------------------------------------------------\u001b[0m",
      "\u001b[0;31mKeyError\u001b[0m                                  Traceback (most recent call last)",
      "\u001b[0;32m<ipython-input-44-1243326c6bc8>\u001b[0m in \u001b[0;36m<module>\u001b[0;34m()\u001b[0m\n\u001b[1;32m      4\u001b[0m \u001b[0;31m# summarize history for accuracy\u001b[0m\u001b[0;34m\u001b[0m\u001b[0;34m\u001b[0m\u001b[0;34m\u001b[0m\u001b[0m\n\u001b[1;32m      5\u001b[0m \u001b[0mplt\u001b[0m\u001b[0;34m.\u001b[0m\u001b[0mplot\u001b[0m\u001b[0;34m(\u001b[0m\u001b[0mhis\u001b[0m\u001b[0;34m.\u001b[0m\u001b[0mhistory\u001b[0m\u001b[0;34m[\u001b[0m\u001b[0;34m'accuracy'\u001b[0m\u001b[0;34m]\u001b[0m\u001b[0;34m)\u001b[0m\u001b[0;34m\u001b[0m\u001b[0;34m\u001b[0m\u001b[0m\n\u001b[0;32m----> 6\u001b[0;31m \u001b[0mplt\u001b[0m\u001b[0;34m.\u001b[0m\u001b[0mplot\u001b[0m\u001b[0;34m(\u001b[0m\u001b[0mhis\u001b[0m\u001b[0;34m.\u001b[0m\u001b[0mhistory\u001b[0m\u001b[0;34m[\u001b[0m\u001b[0;34m'val_accuracy'\u001b[0m\u001b[0;34m]\u001b[0m\u001b[0;34m)\u001b[0m\u001b[0;34m\u001b[0m\u001b[0;34m\u001b[0m\u001b[0m\n\u001b[0m\u001b[1;32m      7\u001b[0m \u001b[0mplt\u001b[0m\u001b[0;34m.\u001b[0m\u001b[0mtitle\u001b[0m\u001b[0;34m(\u001b[0m\u001b[0;34m'model accuracy'\u001b[0m\u001b[0;34m)\u001b[0m\u001b[0;34m\u001b[0m\u001b[0;34m\u001b[0m\u001b[0m\n\u001b[1;32m      8\u001b[0m \u001b[0mplt\u001b[0m\u001b[0;34m.\u001b[0m\u001b[0mylabel\u001b[0m\u001b[0;34m(\u001b[0m\u001b[0;34m'accuracy'\u001b[0m\u001b[0;34m)\u001b[0m\u001b[0;34m\u001b[0m\u001b[0;34m\u001b[0m\u001b[0m\n",
      "\u001b[0;31mKeyError\u001b[0m: 'val_accuracy'"
     ]
    },
    {
     "data": {
      "image/png": "[encoded data removed]",
      "text/plain": [
       "<Figure size 432x288 with 1 Axes>"
      ]
     },
     "metadata": {
      "needs_background": "light",
      "tags": []
     },
     "output_type": "display_data"
    }
   ],
   "source": [
    "# list all data in history\n",
    "import matplotlib.pyplot as plt\n",
    "print(his.history.keys())\n",
    "# summarize history for accuracy\n",
    "plt.plot(his.history['accuracy'])\n",
    "plt.plot(his.history['val_accuracy'])\n",
    "plt.title('model accuracy')\n",
    "plt.ylabel('accuracy')\n",
    "plt.xlabel('epoch')\n",
    "plt.legend(['train', 'test'], loc='upper left')\n",
    "plt.show()\n"
   ]
  },
  {
   "cell_type": "code",
   "execution_count": null,
   "metadata": {
    "colab": {
     "base_uri": "https://localhost:8080/"
    },
    "id": "-gPqTviLzfle",
    "outputId": "3d7be397-cb39-4081-863f-910c80e3390d"
   },
   "outputs": [
    {
     "name": "stdout",
     "output_type": "stream",
     "text": [
      "Mean Absolute Error: 0.29229596175840933\n",
      "Mean Squared Error: 0.29229596175840933\n",
      "Root Mean Squared Error: 0.5406440249909448\n"
     ]
    }
   ],
   "source": [
    "from sklearn import metrics\n",
    "print('Mean Absolute Error:', metrics.mean_absolute_error(y_test, y_pred))\n",
    "print('Mean Squared Error:', metrics.mean_squared_error(y_test, y_pred))\n",
    "print('Root Mean Squared Error:', np.sqrt(metrics.mean_squared_error(y_test, y_pred)))"
   ]
  },
  {
   "cell_type": "code",
   "execution_count": null,
   "metadata": {
    "colab": {
     "base_uri": "https://localhost:8080/"
    },
    "id": "o_Djc6X8ziP9",
    "outputId": "7b14ae10-dd87-4b7b-d390-9c2862b4a62e"
   },
   "outputs": [
    {
     "data": {
      "text/plain": [
       "136396"
      ]
     },
     "execution_count": 48,
     "metadata": {
      "tags": []
     },
     "output_type": "execute_result"
    }
   ],
   "source": [
    "dataset['y_pred'] = np.NaN\n",
    "val=(len(dataset) - len(y_pred))\n",
    "val"
   ]
  },
  {
   "cell_type": "code",
   "execution_count": null,
   "metadata": {
    "id": "kCa731XSzoyI"
   },
   "outputs": [],
   "source": [
    "dataset.iloc[val:,-1:] = y_pred\n",
    "trade_dataset = dataset.dropna()"
   ]
  },
  {
   "cell_type": "code",
   "execution_count": null,
   "metadata": {
    "colab": {
     "base_uri": "https://localhost:8080/",
     "height": 875
    },
    "id": "vs4bx6VezqvD",
    "outputId": "77ab2d62-9eb9-4089-f9e5-a65e2e4f3310"
   },
   "outputs": [
    {
     "name": "stderr",
     "output_type": "stream",
     "text": [
      "/usr/local/lib/python3.6/dist-packages/ipykernel_launcher.py:1: SettingWithCopyWarning: \n",
      "A value is trying to be set on a copy of a slice from a DataFrame.\n",
      "Try using .loc[row_indexer,col_indexer] = value instead\n",
      "\n",
      "See the caveats in the documentation: https://pandas.pydata.org/pandas-docs/stable/user_guide/indexing.html#returning-a-view-versus-a-copy\n",
      "  \"\"\"Entry point for launching an IPython kernel.\n"
     ]
    },
    {
     "data": {
      "text/html": [
       "<div>\n",
       "<style scoped>\n",
       "    .dataframe tbody tr th:only-of-type {\n",
       "        vertical-align: middle;\n",
       "    }\n",
       "\n",
       "    .dataframe tbody tr th {\n",
       "        vertical-align: top;\n",
       "    }\n",
       "\n",
       "    .dataframe thead th {\n",
       "        text-align: right;\n",
       "    }\n",
       "</style>\n",
       "<table border=\"1\" class=\"dataframe\">\n",
       "  <thead>\n",
       "    <tr style=\"text-align: right;\">\n",
       "      <th></th>\n",
       "      <th>date</th>\n",
       "      <th>symbol</th>\n",
       "      <th>open</th>\n",
       "      <th>close</th>\n",
       "      <th>low</th>\n",
       "      <th>high</th>\n",
       "      <th>volume</th>\n",
       "      <th>H-L</th>\n",
       "      <th>O-C</th>\n",
       "      <th>3day MA</th>\n",
       "      <th>10day MA</th>\n",
       "      <th>30day MA</th>\n",
       "      <th>Std_dev</th>\n",
       "      <th>Price_Rise</th>\n",
       "      <th>y_pred</th>\n",
       "      <th>Tomorrows Returns</th>\n",
       "    </tr>\n",
       "  </thead>\n",
       "  <tbody>\n",
       "    <tr>\n",
       "      <th>136426</th>\n",
       "      <td>2011-02-28</td>\n",
       "      <td>FOX</td>\n",
       "      <td>16.174909</td>\n",
       "      <td>16.254419</td>\n",
       "      <td>16.174909</td>\n",
       "      <td>16.378089</td>\n",
       "      <td>3162500.0</td>\n",
       "      <td>0.203180</td>\n",
       "      <td>0.079510</td>\n",
       "      <td>50.378890</td>\n",
       "      <td>43.824167</td>\n",
       "      <td>48.600389</td>\n",
       "      <td>19.834844</td>\n",
       "      <td>0</td>\n",
       "      <td>True</td>\n",
       "      <td>NaN</td>\n",
       "    </tr>\n",
       "    <tr>\n",
       "      <th>136427</th>\n",
       "      <td>2011-02-28</td>\n",
       "      <td>FOXA</td>\n",
       "      <td>15.326860</td>\n",
       "      <td>15.344519</td>\n",
       "      <td>15.282690</td>\n",
       "      <td>15.494700</td>\n",
       "      <td>15479500.0</td>\n",
       "      <td>0.212010</td>\n",
       "      <td>0.017659</td>\n",
       "      <td>32.210362</td>\n",
       "      <td>41.619609</td>\n",
       "      <td>47.958203</td>\n",
       "      <td>22.708446</td>\n",
       "      <td>1</td>\n",
       "      <td>True</td>\n",
       "      <td>-0.057606</td>\n",
       "    </tr>\n",
       "    <tr>\n",
       "      <th>136428</th>\n",
       "      <td>2011-02-28</td>\n",
       "      <td>FRT</td>\n",
       "      <td>83.110001</td>\n",
       "      <td>84.180000</td>\n",
       "      <td>83.089996</td>\n",
       "      <td>84.400002</td>\n",
       "      <td>553800.0</td>\n",
       "      <td>1.310006</td>\n",
       "      <td>1.069999</td>\n",
       "      <td>23.439646</td>\n",
       "      <td>31.353061</td>\n",
       "      <td>46.597853</td>\n",
       "      <td>27.951050</td>\n",
       "      <td>1</td>\n",
       "      <td>False</td>\n",
       "      <td>1.702199</td>\n",
       "    </tr>\n",
       "    <tr>\n",
       "      <th>136429</th>\n",
       "      <td>2011-02-28</td>\n",
       "      <td>FSLR</td>\n",
       "      <td>153.770004</td>\n",
       "      <td>147.389999</td>\n",
       "      <td>146.789993</td>\n",
       "      <td>155.210007</td>\n",
       "      <td>3847600.0</td>\n",
       "      <td>8.420014</td>\n",
       "      <td>-6.380005</td>\n",
       "      <td>38.592979</td>\n",
       "      <td>36.532061</td>\n",
       "      <td>46.522520</td>\n",
       "      <td>56.083859</td>\n",
       "      <td>0</td>\n",
       "      <td>False</td>\n",
       "      <td>0.560125</td>\n",
       "    </tr>\n",
       "    <tr>\n",
       "      <th>136430</th>\n",
       "      <td>2011-02-28</td>\n",
       "      <td>FTI</td>\n",
       "      <td>46.865001</td>\n",
       "      <td>47.025002</td>\n",
       "      <td>45.665001</td>\n",
       "      <td>47.029999</td>\n",
       "      <td>2390200.0</td>\n",
       "      <td>1.364998</td>\n",
       "      <td>0.160000</td>\n",
       "      <td>82.304839</td>\n",
       "      <td>48.107561</td>\n",
       "      <td>49.598520</td>\n",
       "      <td>55.400901</td>\n",
       "      <td>0</td>\n",
       "      <td>False</td>\n",
       "      <td>-1.142403</td>\n",
       "    </tr>\n",
       "    <tr>\n",
       "      <th>...</th>\n",
       "      <td>...</td>\n",
       "      <td>...</td>\n",
       "      <td>...</td>\n",
       "      <td>...</td>\n",
       "      <td>...</td>\n",
       "      <td>...</td>\n",
       "      <td>...</td>\n",
       "      <td>...</td>\n",
       "      <td>...</td>\n",
       "      <td>...</td>\n",
       "      <td>...</td>\n",
       "      <td>...</td>\n",
       "      <td>...</td>\n",
       "      <td>...</td>\n",
       "      <td>...</td>\n",
       "      <td>...</td>\n",
       "    </tr>\n",
       "    <tr>\n",
       "      <th>170520</th>\n",
       "      <td>2011-06-10</td>\n",
       "      <td>UTX</td>\n",
       "      <td>83.610001</td>\n",
       "      <td>82.699997</td>\n",
       "      <td>82.599998</td>\n",
       "      <td>83.860001</td>\n",
       "      <td>4282200.0</td>\n",
       "      <td>1.260003</td>\n",
       "      <td>-0.910004</td>\n",
       "      <td>25.226667</td>\n",
       "      <td>40.079000</td>\n",
       "      <td>38.447595</td>\n",
       "      <td>28.149179</td>\n",
       "      <td>0</td>\n",
       "      <td>False</td>\n",
       "      <td>1.223509</td>\n",
       "    </tr>\n",
       "    <tr>\n",
       "      <th>170521</th>\n",
       "      <td>2011-06-10</td>\n",
       "      <td>V</td>\n",
       "      <td>19.052500</td>\n",
       "      <td>18.672501</td>\n",
       "      <td>18.637501</td>\n",
       "      <td>19.077499</td>\n",
       "      <td>29456800.0</td>\n",
       "      <td>0.439999</td>\n",
       "      <td>-0.379999</td>\n",
       "      <td>43.116666</td>\n",
       "      <td>45.909000</td>\n",
       "      <td>39.730262</td>\n",
       "      <td>26.698814</td>\n",
       "      <td>1</td>\n",
       "      <td>True</td>\n",
       "      <td>-1.488168</td>\n",
       "    </tr>\n",
       "    <tr>\n",
       "      <th>170522</th>\n",
       "      <td>2011-06-10</td>\n",
       "      <td>VAR</td>\n",
       "      <td>66.050003</td>\n",
       "      <td>65.480003</td>\n",
       "      <td>65.360001</td>\n",
       "      <td>66.099998</td>\n",
       "      <td>853500.0</td>\n",
       "      <td>0.739997</td>\n",
       "      <td>-0.570000</td>\n",
       "      <td>41.900832</td>\n",
       "      <td>42.572250</td>\n",
       "      <td>38.586679</td>\n",
       "      <td>29.364308</td>\n",
       "      <td>0</td>\n",
       "      <td>True</td>\n",
       "      <td>1.254693</td>\n",
       "    </tr>\n",
       "    <tr>\n",
       "      <th>170523</th>\n",
       "      <td>2011-06-10</td>\n",
       "      <td>VFC</td>\n",
       "      <td>23.242500</td>\n",
       "      <td>22.950001</td>\n",
       "      <td>22.905001</td>\n",
       "      <td>23.430000</td>\n",
       "      <td>4783200.0</td>\n",
       "      <td>0.524999</td>\n",
       "      <td>-0.292499</td>\n",
       "      <td>55.617500</td>\n",
       "      <td>43.504250</td>\n",
       "      <td>39.602679</td>\n",
       "      <td>29.256146</td>\n",
       "      <td>1</td>\n",
       "      <td>True</td>\n",
       "      <td>-1.048427</td>\n",
       "    </tr>\n",
       "    <tr>\n",
       "      <th>170524</th>\n",
       "      <td>2011-06-10</td>\n",
       "      <td>VIAB</td>\n",
       "      <td>49.130001</td>\n",
       "      <td>48.130001</td>\n",
       "      <td>48.090000</td>\n",
       "      <td>49.130001</td>\n",
       "      <td>3991500.0</td>\n",
       "      <td>1.040001</td>\n",
       "      <td>-1.000000</td>\n",
       "      <td>35.700835</td>\n",
       "      <td>40.858250</td>\n",
       "      <td>39.921345</td>\n",
       "      <td>27.369723</td>\n",
       "      <td>0</td>\n",
       "      <td>False</td>\n",
       "      <td>0.740588</td>\n",
       "    </tr>\n",
       "  </tbody>\n",
       "</table>\n",
       "<p>34099 rows × 16 columns</p>\n",
       "</div>"
      ],
      "text/plain": [
       "              date symbol        open  ...  Price_Rise  y_pred  Tomorrows Returns\n",
       "136426  2011-02-28    FOX   16.174909  ...           0    True                NaN\n",
       "136427  2011-02-28   FOXA   15.326860  ...           1    True          -0.057606\n",
       "136428  2011-02-28    FRT   83.110001  ...           1   False           1.702199\n",
       "136429  2011-02-28   FSLR  153.770004  ...           0   False           0.560125\n",
       "136430  2011-02-28    FTI   46.865001  ...           0   False          -1.142403\n",
       "...            ...    ...         ...  ...         ...     ...                ...\n",
       "170520  2011-06-10    UTX   83.610001  ...           0   False           1.223509\n",
       "170521  2011-06-10      V   19.052500  ...           1    True          -1.488168\n",
       "170522  2011-06-10    VAR   66.050003  ...           0    True           1.254693\n",
       "170523  2011-06-10    VFC   23.242500  ...           1    True          -1.048427\n",
       "170524  2011-06-10   VIAB   49.130001  ...           0   False           0.740588\n",
       "\n",
       "[34099 rows x 16 columns]"
      ]
     },
     "execution_count": 50,
     "metadata": {
      "tags": []
     },
     "output_type": "execute_result"
    }
   ],
   "source": [
    "trade_dataset['Tomorrows Returns'] = np.log(trade_dataset['close']/trade_dataset['close'].shift(1))\n",
    "trade_dataset"
   ]
  },
  {
   "cell_type": "code",
   "execution_count": null,
   "metadata": {
    "colab": {
     "base_uri": "https://localhost:8080/",
     "height": 875
    },
    "id": "WyD6F-0JztIC",
    "outputId": "6e6739af-88ad-4ed6-ae25-e474fe5257cc"
   },
   "outputs": [
    {
     "name": "stderr",
     "output_type": "stream",
     "text": [
      "/usr/local/lib/python3.6/dist-packages/ipykernel_launcher.py:1: SettingWithCopyWarning: \n",
      "A value is trying to be set on a copy of a slice from a DataFrame.\n",
      "Try using .loc[row_indexer,col_indexer] = value instead\n",
      "\n",
      "See the caveats in the documentation: https://pandas.pydata.org/pandas-docs/stable/user_guide/indexing.html#returning-a-view-versus-a-copy\n",
      "  \"\"\"Entry point for launching an IPython kernel.\n"
     ]
    },
    {
     "data": {
      "text/html": [
       "<div>\n",
       "<style scoped>\n",
       "    .dataframe tbody tr th:only-of-type {\n",
       "        vertical-align: middle;\n",
       "    }\n",
       "\n",
       "    .dataframe tbody tr th {\n",
       "        vertical-align: top;\n",
       "    }\n",
       "\n",
       "    .dataframe thead th {\n",
       "        text-align: right;\n",
       "    }\n",
       "</style>\n",
       "<table border=\"1\" class=\"dataframe\">\n",
       "  <thead>\n",
       "    <tr style=\"text-align: right;\">\n",
       "      <th></th>\n",
       "      <th>date</th>\n",
       "      <th>symbol</th>\n",
       "      <th>open</th>\n",
       "      <th>close</th>\n",
       "      <th>low</th>\n",
       "      <th>high</th>\n",
       "      <th>volume</th>\n",
       "      <th>H-L</th>\n",
       "      <th>O-C</th>\n",
       "      <th>3day MA</th>\n",
       "      <th>10day MA</th>\n",
       "      <th>30day MA</th>\n",
       "      <th>Std_dev</th>\n",
       "      <th>Price_Rise</th>\n",
       "      <th>y_pred</th>\n",
       "      <th>Tomorrows Returns</th>\n",
       "    </tr>\n",
       "  </thead>\n",
       "  <tbody>\n",
       "    <tr>\n",
       "      <th>136426</th>\n",
       "      <td>2011-02-28</td>\n",
       "      <td>FOX</td>\n",
       "      <td>16.174909</td>\n",
       "      <td>16.254419</td>\n",
       "      <td>16.174909</td>\n",
       "      <td>16.378089</td>\n",
       "      <td>3162500.0</td>\n",
       "      <td>0.203180</td>\n",
       "      <td>0.079510</td>\n",
       "      <td>50.378890</td>\n",
       "      <td>43.824167</td>\n",
       "      <td>48.600389</td>\n",
       "      <td>19.834844</td>\n",
       "      <td>0</td>\n",
       "      <td>True</td>\n",
       "      <td>-0.057606</td>\n",
       "    </tr>\n",
       "    <tr>\n",
       "      <th>136427</th>\n",
       "      <td>2011-02-28</td>\n",
       "      <td>FOXA</td>\n",
       "      <td>15.326860</td>\n",
       "      <td>15.344519</td>\n",
       "      <td>15.282690</td>\n",
       "      <td>15.494700</td>\n",
       "      <td>15479500.0</td>\n",
       "      <td>0.212010</td>\n",
       "      <td>0.017659</td>\n",
       "      <td>32.210362</td>\n",
       "      <td>41.619609</td>\n",
       "      <td>47.958203</td>\n",
       "      <td>22.708446</td>\n",
       "      <td>1</td>\n",
       "      <td>True</td>\n",
       "      <td>1.702199</td>\n",
       "    </tr>\n",
       "    <tr>\n",
       "      <th>136428</th>\n",
       "      <td>2011-02-28</td>\n",
       "      <td>FRT</td>\n",
       "      <td>83.110001</td>\n",
       "      <td>84.180000</td>\n",
       "      <td>83.089996</td>\n",
       "      <td>84.400002</td>\n",
       "      <td>553800.0</td>\n",
       "      <td>1.310006</td>\n",
       "      <td>1.069999</td>\n",
       "      <td>23.439646</td>\n",
       "      <td>31.353061</td>\n",
       "      <td>46.597853</td>\n",
       "      <td>27.951050</td>\n",
       "      <td>1</td>\n",
       "      <td>False</td>\n",
       "      <td>0.560125</td>\n",
       "    </tr>\n",
       "    <tr>\n",
       "      <th>136429</th>\n",
       "      <td>2011-02-28</td>\n",
       "      <td>FSLR</td>\n",
       "      <td>153.770004</td>\n",
       "      <td>147.389999</td>\n",
       "      <td>146.789993</td>\n",
       "      <td>155.210007</td>\n",
       "      <td>3847600.0</td>\n",
       "      <td>8.420014</td>\n",
       "      <td>-6.380005</td>\n",
       "      <td>38.592979</td>\n",
       "      <td>36.532061</td>\n",
       "      <td>46.522520</td>\n",
       "      <td>56.083859</td>\n",
       "      <td>0</td>\n",
       "      <td>False</td>\n",
       "      <td>-1.142403</td>\n",
       "    </tr>\n",
       "    <tr>\n",
       "      <th>136430</th>\n",
       "      <td>2011-02-28</td>\n",
       "      <td>FTI</td>\n",
       "      <td>46.865001</td>\n",
       "      <td>47.025002</td>\n",
       "      <td>45.665001</td>\n",
       "      <td>47.029999</td>\n",
       "      <td>2390200.0</td>\n",
       "      <td>1.364998</td>\n",
       "      <td>0.160000</td>\n",
       "      <td>82.304839</td>\n",
       "      <td>48.107561</td>\n",
       "      <td>49.598520</td>\n",
       "      <td>55.400901</td>\n",
       "      <td>0</td>\n",
       "      <td>False</td>\n",
       "      <td>-1.711790</td>\n",
       "    </tr>\n",
       "    <tr>\n",
       "      <th>...</th>\n",
       "      <td>...</td>\n",
       "      <td>...</td>\n",
       "      <td>...</td>\n",
       "      <td>...</td>\n",
       "      <td>...</td>\n",
       "      <td>...</td>\n",
       "      <td>...</td>\n",
       "      <td>...</td>\n",
       "      <td>...</td>\n",
       "      <td>...</td>\n",
       "      <td>...</td>\n",
       "      <td>...</td>\n",
       "      <td>...</td>\n",
       "      <td>...</td>\n",
       "      <td>...</td>\n",
       "      <td>...</td>\n",
       "    </tr>\n",
       "    <tr>\n",
       "      <th>170520</th>\n",
       "      <td>2011-06-10</td>\n",
       "      <td>UTX</td>\n",
       "      <td>83.610001</td>\n",
       "      <td>82.699997</td>\n",
       "      <td>82.599998</td>\n",
       "      <td>83.860001</td>\n",
       "      <td>4282200.0</td>\n",
       "      <td>1.260003</td>\n",
       "      <td>-0.910004</td>\n",
       "      <td>25.226667</td>\n",
       "      <td>40.079000</td>\n",
       "      <td>38.447595</td>\n",
       "      <td>28.149179</td>\n",
       "      <td>0</td>\n",
       "      <td>False</td>\n",
       "      <td>-1.488168</td>\n",
       "    </tr>\n",
       "    <tr>\n",
       "      <th>170521</th>\n",
       "      <td>2011-06-10</td>\n",
       "      <td>V</td>\n",
       "      <td>19.052500</td>\n",
       "      <td>18.672501</td>\n",
       "      <td>18.637501</td>\n",
       "      <td>19.077499</td>\n",
       "      <td>29456800.0</td>\n",
       "      <td>0.439999</td>\n",
       "      <td>-0.379999</td>\n",
       "      <td>43.116666</td>\n",
       "      <td>45.909000</td>\n",
       "      <td>39.730262</td>\n",
       "      <td>26.698814</td>\n",
       "      <td>1</td>\n",
       "      <td>True</td>\n",
       "      <td>1.254693</td>\n",
       "    </tr>\n",
       "    <tr>\n",
       "      <th>170522</th>\n",
       "      <td>2011-06-10</td>\n",
       "      <td>VAR</td>\n",
       "      <td>66.050003</td>\n",
       "      <td>65.480003</td>\n",
       "      <td>65.360001</td>\n",
       "      <td>66.099998</td>\n",
       "      <td>853500.0</td>\n",
       "      <td>0.739997</td>\n",
       "      <td>-0.570000</td>\n",
       "      <td>41.900832</td>\n",
       "      <td>42.572250</td>\n",
       "      <td>38.586679</td>\n",
       "      <td>29.364308</td>\n",
       "      <td>0</td>\n",
       "      <td>True</td>\n",
       "      <td>-1.048427</td>\n",
       "    </tr>\n",
       "    <tr>\n",
       "      <th>170523</th>\n",
       "      <td>2011-06-10</td>\n",
       "      <td>VFC</td>\n",
       "      <td>23.242500</td>\n",
       "      <td>22.950001</td>\n",
       "      <td>22.905001</td>\n",
       "      <td>23.430000</td>\n",
       "      <td>4783200.0</td>\n",
       "      <td>0.524999</td>\n",
       "      <td>-0.292499</td>\n",
       "      <td>55.617500</td>\n",
       "      <td>43.504250</td>\n",
       "      <td>39.602679</td>\n",
       "      <td>29.256146</td>\n",
       "      <td>1</td>\n",
       "      <td>True</td>\n",
       "      <td>0.740588</td>\n",
       "    </tr>\n",
       "    <tr>\n",
       "      <th>170524</th>\n",
       "      <td>2011-06-10</td>\n",
       "      <td>VIAB</td>\n",
       "      <td>49.130001</td>\n",
       "      <td>48.130001</td>\n",
       "      <td>48.090000</td>\n",
       "      <td>49.130001</td>\n",
       "      <td>3991500.0</td>\n",
       "      <td>1.040001</td>\n",
       "      <td>-1.000000</td>\n",
       "      <td>35.700835</td>\n",
       "      <td>40.858250</td>\n",
       "      <td>39.921345</td>\n",
       "      <td>27.369723</td>\n",
       "      <td>0</td>\n",
       "      <td>False</td>\n",
       "      <td>NaN</td>\n",
       "    </tr>\n",
       "  </tbody>\n",
       "</table>\n",
       "<p>34099 rows × 16 columns</p>\n",
       "</div>"
      ],
      "text/plain": [
       "              date symbol        open  ...  Price_Rise  y_pred  Tomorrows Returns\n",
       "136426  2011-02-28    FOX   16.174909  ...           0    True          -0.057606\n",
       "136427  2011-02-28   FOXA   15.326860  ...           1    True           1.702199\n",
       "136428  2011-02-28    FRT   83.110001  ...           1   False           0.560125\n",
       "136429  2011-02-28   FSLR  153.770004  ...           0   False          -1.142403\n",
       "136430  2011-02-28    FTI   46.865001  ...           0   False          -1.711790\n",
       "...            ...    ...         ...  ...         ...     ...                ...\n",
       "170520  2011-06-10    UTX   83.610001  ...           0   False          -1.488168\n",
       "170521  2011-06-10      V   19.052500  ...           1    True           1.254693\n",
       "170522  2011-06-10    VAR   66.050003  ...           0    True          -1.048427\n",
       "170523  2011-06-10    VFC   23.242500  ...           1    True           0.740588\n",
       "170524  2011-06-10   VIAB   49.130001  ...           0   False                NaN\n",
       "\n",
       "[34099 rows x 16 columns]"
      ]
     },
     "execution_count": 51,
     "metadata": {
      "tags": []
     },
     "output_type": "execute_result"
    }
   ],
   "source": [
    "trade_dataset['Tomorrows Returns'] = trade_dataset['Tomorrows Returns'].shift(-1)\n",
    "trade_dataset"
   ]
  },
  {
   "cell_type": "code",
   "execution_count": null,
   "metadata": {
    "colab": {
     "base_uri": "https://localhost:8080/"
    },
    "id": "8RPV3oGvz0Va",
    "outputId": "ebb722c9-87cd-4027-f089-05855f07379a"
   },
   "outputs": [
    {
     "name": "stderr",
     "output_type": "stream",
     "text": [
      "/usr/local/lib/python3.6/dist-packages/ipykernel_launcher.py:1: SettingWithCopyWarning: \n",
      "A value is trying to be set on a copy of a slice from a DataFrame.\n",
      "Try using .loc[row_indexer,col_indexer] = value instead\n",
      "\n",
      "See the caveats in the documentation: https://pandas.pydata.org/pandas-docs/stable/user_guide/indexing.html#returning-a-view-versus-a-copy\n",
      "  \"\"\"Entry point for launching an IPython kernel.\n"
     ]
    }
   ],
   "source": [
    "trade_dataset['Strategy Returns'] = np.where(trade_dataset['y_pred'] == True, trade_dataset['Tomorrows Returns'], - trade_dataset['Tomorrows Returns'])"
   ]
  },
  {
   "cell_type": "code",
   "execution_count": null,
   "metadata": {
    "id": "ONcoSq0fz2pL"
   },
   "outputs": [],
   "source": [
    "trade_dataset = trade_dataset.dropna()"
   ]
  },
  {
   "cell_type": "code",
   "execution_count": null,
   "metadata": {
    "colab": {
     "base_uri": "https://localhost:8080/"
    },
    "id": "mQPZz_ewz7BL",
    "outputId": "fd404bd2-d924-4812-ece2-26f23bc639df"
   },
   "outputs": [
    {
     "name": "stderr",
     "output_type": "stream",
     "text": [
      "/usr/local/lib/python3.6/dist-packages/ipykernel_launcher.py:1: SettingWithCopyWarning: \n",
      "A value is trying to be set on a copy of a slice from a DataFrame.\n",
      "Try using .loc[row_indexer,col_indexer] = value instead\n",
      "\n",
      "See the caveats in the documentation: https://pandas.pydata.org/pandas-docs/stable/user_guide/indexing.html#returning-a-view-versus-a-copy\n",
      "  \"\"\"Entry point for launching an IPython kernel.\n"
     ]
    }
   ],
   "source": [
    "trade_dataset['change']=trade_dataset['close']-trade_dataset['Strategy Returns']"
   ]
  },
  {
   "cell_type": "code",
   "execution_count": null,
   "metadata": {
    "colab": {
     "base_uri": "https://localhost:8080/",
     "height": 350
    },
    "id": "hdFMKLoWz90W",
    "outputId": "1bd901d7-5726-4c99-abdf-498f45ea06dd"
   },
   "outputs": [
    {
     "data": {
      "image/png": "[encoded data removed]",
      "text/plain": [
       "<Figure size 720x360 with 1 Axes>"
      ]
     },
     "metadata": {
      "needs_background": "light",
      "tags": []
     },
     "output_type": "display_data"
    }
   ],
   "source": [
    "import matplotlib.pyplot as plt\n",
    "plt.figure(figsize=(10,5))\n",
    "plt.plot(trade_dataset['date'],trade_dataset['close'], color='r', label='Actual Closing Price')\n",
    "plt.plot(trade_dataset['date'],trade_dataset['change'], color='g', label='Predicted Closing Price')\n",
    "plt.ylabel('Price')\n",
    "plt.xlabel('Date')\n",
    "plt.title('BPNN1 model')\n",
    "plt.legend()\n",
    "plt.show()"
   ]
  },
  {
   "cell_type": "code",
   "execution_count": null,
   "metadata": {
    "id": "Go4rVvbp0AZZ"
   },
   "outputs": [],
   "source": []
  }
 ],
 "metadata": {
  "colab": {
   "name": "Code.ipynb",
   "provenance": []
  },
  "kernelspec": {
   "display_name": "Python 3",
   "language": "python",
   "name": "python3"
  },
  "language_info": {
   "codemirror_mode": {
    "name": "ipython",
    "version": 3
   },
   "file_extension": ".py",
   "mimetype": "text/x-python",
   "name": "python",
   "nbconvert_exporter": "python",
   "pygments_lexer": "ipython3",
   "version": "3.8.5"
  }
 },
 "nbformat": 4,
 "nbformat_minor": 1
}
